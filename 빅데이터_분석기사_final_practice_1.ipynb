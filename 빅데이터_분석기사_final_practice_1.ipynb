{
  "nbformat": 4,
  "nbformat_minor": 0,
  "metadata": {
    "colab": {
      "name": "빅데이터 분석기사 final practice-1",
      "provenance": [],
      "collapsed_sections": [],
      "authorship_tag": "ABX9TyMrRbK2FGKcE7ofrL87WRgI",
      "include_colab_link": true
    },
    "kernelspec": {
      "name": "python3",
      "display_name": "Python 3"
    },
    "language_info": {
      "name": "python"
    }
  },
  "cells": [
    {
      "cell_type": "markdown",
      "metadata": {
        "id": "view-in-github",
        "colab_type": "text"
      },
      "source": [
        "<a href=\"https://colab.research.google.com/github/ejrtks1020/Final_preparation_for_Bigdata_exam/blob/main/%EB%B9%85%EB%8D%B0%EC%9D%B4%ED%84%B0_%EB%B6%84%EC%84%9D%EA%B8%B0%EC%82%AC_final_practice_1.ipynb\" target=\"_parent\"><img src=\"https://colab.research.google.com/assets/colab-badge.svg\" alt=\"Open In Colab\"/></a>"
      ]
    },
    {
      "cell_type": "code",
      "metadata": {
        "id": "cxFUaQ9mhD-B"
      },
      "source": [
        "import pandas as pd\n",
        "\n",
        "df = pd.read_excel('data1.xlsx')"
      ],
      "execution_count": null,
      "outputs": []
    },
    {
      "cell_type": "code",
      "metadata": {
        "colab": {
          "base_uri": "https://localhost:8080/",
          "height": 345
        },
        "id": "WIJcuDOpkP3X",
        "outputId": "7578a5db-5523-44c7-da6b-67329484a724"
      },
      "source": [
        "df.head()"
      ],
      "execution_count": null,
      "outputs": [
        {
          "output_type": "execute_result",
          "data": {
            "text/html": [
              "<div>\n",
              "<style scoped>\n",
              "    .dataframe tbody tr th:only-of-type {\n",
              "        vertical-align: middle;\n",
              "    }\n",
              "\n",
              "    .dataframe tbody tr th {\n",
              "        vertical-align: top;\n",
              "    }\n",
              "\n",
              "    .dataframe thead th {\n",
              "        text-align: right;\n",
              "    }\n",
              "</style>\n",
              "<table border=\"1\" class=\"dataframe\">\n",
              "  <thead>\n",
              "    <tr style=\"text-align: right;\">\n",
              "      <th></th>\n",
              "      <th>날짜</th>\n",
              "      <th>SKU ID</th>\n",
              "      <th>SKU 명</th>\n",
              "      <th>바코드</th>\n",
              "      <th>발주가능상태</th>\n",
              "      <th>입고수량</th>\n",
              "      <th>쿠팡출고수량</th>\n",
              "      <th>쿠팡현재재고수량</th>\n",
              "      <th>자재번호</th>\n",
              "      <th>자재명</th>\n",
              "      <th>카테고리</th>\n",
              "      <th>입수</th>\n",
              "      <th>출고수량</th>\n",
              "      <th>재고수량</th>\n",
              "    </tr>\n",
              "  </thead>\n",
              "  <tbody>\n",
              "    <tr>\n",
              "      <th>0</th>\n",
              "      <td>2019-05-16</td>\n",
              "      <td>29349</td>\n",
              "      <td>리큐진한겔일반 3LNEW</td>\n",
              "      <td>8801046893111</td>\n",
              "      <td>발주가능</td>\n",
              "      <td>384</td>\n",
              "      <td>287</td>\n",
              "      <td>5788</td>\n",
              "      <td>6077374</td>\n",
              "      <td>19리큐 진한겔 알카2.7용기(일)</td>\n",
              "      <td>세탁세제</td>\n",
              "      <td>4</td>\n",
              "      <td>71.750000</td>\n",
              "      <td>80.668990</td>\n",
              "    </tr>\n",
              "    <tr>\n",
              "      <th>1</th>\n",
              "      <td>2019-05-16</td>\n",
              "      <td>29350</td>\n",
              "      <td>리큐 진한겔드럼 3L NEW</td>\n",
              "      <td>8801046893128</td>\n",
              "      <td>발주가능</td>\n",
              "      <td>0</td>\n",
              "      <td>235</td>\n",
              "      <td>2772</td>\n",
              "      <td>6077394</td>\n",
              "      <td>19리큐 진한겔 알카2.7용기(드)</td>\n",
              "      <td>세탁세제</td>\n",
              "      <td>4</td>\n",
              "      <td>58.750000</td>\n",
              "      <td>47.182979</td>\n",
              "    </tr>\n",
              "    <tr>\n",
              "      <th>2</th>\n",
              "      <td>2019-05-16</td>\n",
              "      <td>29351</td>\n",
              "      <td>울샴푸아웃도어 800ml 용기</td>\n",
              "      <td>8801046878934</td>\n",
              "      <td>발주가능</td>\n",
              "      <td>0</td>\n",
              "      <td>2</td>\n",
              "      <td>35</td>\n",
              "      <td>6077406</td>\n",
              "      <td>19울샴푸아웃도 800ml(리뉴얼)</td>\n",
              "      <td>세탁세제</td>\n",
              "      <td>9</td>\n",
              "      <td>0.222222</td>\n",
              "      <td>157.500000</td>\n",
              "    </tr>\n",
              "    <tr>\n",
              "      <th>3</th>\n",
              "      <td>2019-05-16</td>\n",
              "      <td>29352</td>\n",
              "      <td>울샴푸아웃도어 1L 일자형 리필</td>\n",
              "      <td>8801046878941</td>\n",
              "      <td>발주가능</td>\n",
              "      <td>207</td>\n",
              "      <td>41</td>\n",
              "      <td>2083</td>\n",
              "      <td>6077404</td>\n",
              "      <td>19울샴푸아웃도 1L(리뉴얼)</td>\n",
              "      <td>세탁세제</td>\n",
              "      <td>9</td>\n",
              "      <td>4.555556</td>\n",
              "      <td>457.243902</td>\n",
              "    </tr>\n",
              "    <tr>\n",
              "      <th>4</th>\n",
              "      <td>2019-05-16</td>\n",
              "      <td>29359</td>\n",
              "      <td>Pack 2080오리지날칫솔 5+5입_탄력모</td>\n",
              "      <td>8801046888858</td>\n",
              "      <td>발주가능</td>\n",
              "      <td>288</td>\n",
              "      <td>312</td>\n",
              "      <td>3411</td>\n",
              "      <td>5009109</td>\n",
              "      <td>182080오리지날칫솔 5+5입(탄력모)</td>\n",
              "      <td>덴탈케어</td>\n",
              "      <td>8</td>\n",
              "      <td>39.000000</td>\n",
              "      <td>87.461538</td>\n",
              "    </tr>\n",
              "  </tbody>\n",
              "</table>\n",
              "</div>"
            ],
            "text/plain": [
              "           날짜  SKU ID                     SKU 명  ... 입수       출고수량        재고수량\n",
              "0  2019-05-16   29349             리큐진한겔일반 3LNEW  ...  4  71.750000   80.668990\n",
              "1  2019-05-16   29350           리큐 진한겔드럼 3L NEW  ...  4  58.750000   47.182979\n",
              "2  2019-05-16   29351          울샴푸아웃도어 800ml 용기  ...  9   0.222222  157.500000\n",
              "3  2019-05-16   29352         울샴푸아웃도어 1L 일자형 리필  ...  9   4.555556  457.243902\n",
              "4  2019-05-16   29359  Pack 2080오리지날칫솔 5+5입_탄력모  ...  8  39.000000   87.461538\n",
              "\n",
              "[5 rows x 14 columns]"
            ]
          },
          "metadata": {},
          "execution_count": 4
        }
      ]
    },
    {
      "cell_type": "code",
      "metadata": {
        "colab": {
          "base_uri": "https://localhost:8080/"
        },
        "id": "DSTQJRl0kWRP",
        "outputId": "6a7253ca-b3b9-481b-e4da-b2f80db694fe"
      },
      "source": [
        "df.info()"
      ],
      "execution_count": null,
      "outputs": [
        {
          "output_type": "stream",
          "name": "stdout",
          "text": [
            "<class 'pandas.core.frame.DataFrame'>\n",
            "RangeIndex: 36833 entries, 0 to 36832\n",
            "Data columns (total 14 columns):\n",
            " #   Column    Non-Null Count  Dtype  \n",
            "---  ------    --------------  -----  \n",
            " 0   날짜        36833 non-null  object \n",
            " 1   SKU ID    36833 non-null  int64  \n",
            " 2   SKU 명     36833 non-null  object \n",
            " 3   바코드       36833 non-null  object \n",
            " 4   발주가능상태    36833 non-null  object \n",
            " 5   입고수량      36833 non-null  int64  \n",
            " 6   쿠팡출고수량    36833 non-null  int64  \n",
            " 7   쿠팡현재재고수량  36833 non-null  int64  \n",
            " 8   자재번호      36833 non-null  int64  \n",
            " 9   자재명       36833 non-null  object \n",
            " 10  카테고리      36833 non-null  object \n",
            " 11  입수        36833 non-null  int64  \n",
            " 12  출고수량      36833 non-null  float64\n",
            " 13  재고수량      36833 non-null  float64\n",
            "dtypes: float64(2), int64(6), object(6)\n",
            "memory usage: 3.9+ MB\n"
          ]
        }
      ]
    },
    {
      "cell_type": "code",
      "metadata": {
        "colab": {
          "base_uri": "https://localhost:8080/"
        },
        "id": "wZcbesXgko0-",
        "outputId": "a3a3d390-30aa-4627-be52-0128cd8b1441"
      },
      "source": [
        "df.isnull().sum()"
      ],
      "execution_count": null,
      "outputs": [
        {
          "output_type": "execute_result",
          "data": {
            "text/plain": [
              "날짜          0\n",
              "SKU ID      0\n",
              "SKU 명       0\n",
              "바코드         0\n",
              "발주가능상태      0\n",
              "입고수량        0\n",
              "쿠팡출고수량      0\n",
              "쿠팡현재재고수량    0\n",
              "자재번호        0\n",
              "자재명         0\n",
              "카테고리        0\n",
              "입수          0\n",
              "출고수량        0\n",
              "재고수량        0\n",
              "dtype: int64"
            ]
          },
          "metadata": {},
          "execution_count": 6
        }
      ]
    },
    {
      "cell_type": "markdown",
      "metadata": {
        "id": "7ee3c797"
      },
      "source": [
        "- 1. '출고수량' 항목에 데이터에서 출고수량이 10개 이상인 데이터를 추출하여, \n",
        "     재고수량의 평균을 계산해보시오. \n",
        "     - 필터 \n",
        "     - 통계량 (평균 / 중앙값 / 표준편차) / 데이터 수 "
      ]
    },
    {
      "cell_type": "code",
      "metadata": {
        "colab": {
          "base_uri": "https://localhost:8080/"
        },
        "id": "PWJtxkH7zcYA",
        "outputId": "15d89c0b-6184-4332-c95d-89e8597b1950"
      },
      "source": [
        "################### sol ####################\n",
        "cond1 = (df['출고수량'] >= 10)\n",
        "df2 = df.loc[cond1]\n",
        "\n",
        "print(df2.shape) #출고수량이 10개 이상인 데이터가 6276개\n",
        "print(df2['재고수량'].mean()) #재고수량의 평균은 144,944"
      ],
      "execution_count": null,
      "outputs": [
        {
          "output_type": "stream",
          "name": "stdout",
          "text": [
            "(6276, 14)\n",
            "144.9940311993694\n"
          ]
        }
      ]
    },
    {
      "cell_type": "code",
      "metadata": {
        "colab": {
          "base_uri": "https://localhost:8080/"
        },
        "id": "0KaWKvmSksZW",
        "outputId": "8be88a94-f119-47bc-c891-909e6cdb7b5c"
      },
      "source": [
        "############# My Code #####################\n",
        "df[df['출고수량'] >= 10]['재고수량'].mean()"
      ],
      "execution_count": null,
      "outputs": [
        {
          "output_type": "execute_result",
          "data": {
            "text/plain": [
              "144.9940311993694"
            ]
          },
          "metadata": {},
          "execution_count": 7
        }
      ]
    },
    {
      "cell_type": "markdown",
      "metadata": {
        "id": "44142d1c"
      },
      "source": [
        "- 2. '재고수량'데이터를 Standard Scaling을 실시하여, 0.5이상의 데이터의 갯수(row)  "
      ]
    },
    {
      "cell_type": "code",
      "metadata": {
        "colab": {
          "base_uri": "https://localhost:8080/"
        },
        "id": "4LiBu5dc0F5B",
        "outputId": "8b2d5f3a-4810-45fd-c7c4-1757fc2aabbd"
      },
      "source": [
        "################### sol ####################\n",
        "from sklearn.preprocessing import MinMaxScaler\n",
        "from sklearn.preprocessing import StandardScaler\n",
        "from sklearn.preprocessing import RobustScaler\n",
        "\n",
        "scaler = StandardScaler()\n",
        "scaler.fit(df[['재고수량']])\n",
        "result = scaler.transform(df[['재고수량']])\n",
        "df_result = pd.DataFrame(result)\n",
        "cond1 = (df_result[0] >= 0.5)\n",
        "df_result2 = df_result[cond1]\n",
        "print(df_result2.shape)"
      ],
      "execution_count": null,
      "outputs": [
        {
          "output_type": "stream",
          "name": "stdout",
          "text": [
            "(1791, 1)\n"
          ]
        }
      ]
    },
    {
      "cell_type": "code",
      "metadata": {
        "colab": {
          "base_uri": "https://localhost:8080/"
        },
        "id": "NuTCeqTFk7jI",
        "outputId": "c822f572-734b-459f-dc59-bedfb47c9dd9"
      },
      "source": [
        "############# My Code #####################\n",
        "df['재고수량_scaled'] = df['재고수량'].map(lambda x : (x - df['재고수량'].mean()) / df['재고수량'].std())\n",
        "print(len(df[df['재고수량_scaled'] >= 0.5]))"
      ],
      "execution_count": null,
      "outputs": [
        {
          "output_type": "stream",
          "name": "stdout",
          "text": [
            "1791\n"
          ]
        }
      ]
    },
    {
      "cell_type": "markdown",
      "metadata": {
        "id": "57bdb90f"
      },
      "source": [
        "- 3. '입고수량' 데이터에서 가장 큰 상위 10개 데이터를 가장 작은 최솟값으로 변환하여 평균을 계산 "
      ]
    },
    {
      "cell_type": "code",
      "metadata": {
        "colab": {
          "base_uri": "https://localhost:8080/"
        },
        "id": "vx4lmiCC2QS0",
        "outputId": "eb5fcbe2-f133-47b7-a31c-e1f8deb09a0d"
      },
      "source": [
        "############# Sol #########################\n",
        "df_top_10 = df.sort_values('입고수량', ascending=False).head(10)\n",
        "print(df_top_10.shape)\n",
        "print(df_top_10['입고수량'].min())\n",
        "cond1 = (df['입고수량'] >= 7287)\n",
        "df.loc[cond1, '입고수량(clean)'] = df['입고수량'].min()\n",
        "df.loc[~cond1, '입고수량(clean)'] = df['입고수량']\n",
        "df['입고수량'].mean(), df['입고수량(clean)'].mean()"
      ],
      "execution_count": null,
      "outputs": [
        {
          "output_type": "stream",
          "name": "stdout",
          "text": [
            "(10, 15)\n",
            "7287\n"
          ]
        },
        {
          "output_type": "execute_result",
          "data": {
            "text/plain": [
              "(56.10661634946923, 53.59441261911873)"
            ]
          },
          "metadata": {},
          "execution_count": 60
        }
      ]
    },
    {
      "cell_type": "code",
      "metadata": {
        "colab": {
          "base_uri": "https://localhost:8080/"
        },
        "id": "HzDYvAYFlyfi",
        "outputId": "075dee8b-321c-42f6-fb23-d5a028a886b1"
      },
      "source": [
        "############# My Code #####################\n",
        "print(df['입고수량'].mean())\n",
        "indexes = df['입고수량'].sort_values(ascending = False)[:10].index\n",
        "df.iloc[indexes , '입고수량'] = df['입고수량'].min()\n",
        "print(df['입고수량'].mean())"
      ],
      "execution_count": null,
      "outputs": [
        {
          "output_type": "stream",
          "name": "stdout",
          "text": [
            "56.10661634946923\n",
            "53.59441261911873\n"
          ]
        }
      ]
    },
    {
      "cell_type": "markdown",
      "metadata": {
        "id": "8ac98c77"
      },
      "source": [
        "- 4. data1.xlsx 데이터에서 학습데이터를 70% 추출하여, 학습데이터의 '출고수량' 표준편차 와 검증데이터의 '출고수량' 표준편차의 차 를 계산 \n",
        "    (random state를 1234)"
      ]
    },
    {
      "cell_type": "code",
      "metadata": {
        "colab": {
          "base_uri": "https://localhost:8080/"
        },
        "id": "3hOskqHqm0zy",
        "outputId": "0faf7ee4-a737-4505-9cd6-dfdf26b7ee39"
      },
      "source": [
        "############# My Code #####################\n",
        "from sklearn.model_selection import train_test_split\n",
        "\n",
        "train, test = train_test_split(df, test_size = 0.3, random_state=1234)\n",
        "print(train['출고수량'].std() - test['출고수량'].std())\n"
      ],
      "execution_count": null,
      "outputs": [
        {
          "output_type": "stream",
          "name": "stdout",
          "text": [
            "-0.3610776884744915\n"
          ]
        }
      ]
    },
    {
      "cell_type": "markdown",
      "metadata": {
        "id": "7a9cebe6"
      },
      "source": [
        "- 5. data1.xlsx 데이터에서 '입수'의 이상치를 모두 합한 값을 계산하라 \n",
        "     (이상치는 (3사분위수 + (IQR * 1.5) )를 기준으로 함) "
      ]
    },
    {
      "cell_type": "code",
      "metadata": {
        "colab": {
          "base_uri": "https://localhost:8080/"
        },
        "id": "KOndWu5foR8I",
        "outputId": "ff99cade-5bab-4b67-ce0e-0466dc52f218"
      },
      "source": [
        "############# My Code #####################\n",
        "q3 = df['입수'].quantile(0.75)\n",
        "q1 = df['입수'].quantile(0.25)\n",
        "IQR = q3 - q1\n",
        "cond = q3 + IQR * 1.5\n",
        "\n",
        "df[df['입수'] >= cond]['입수'].sum()"
      ],
      "execution_count": null,
      "outputs": [
        {
          "output_type": "execute_result",
          "data": {
            "text/plain": [
              "56795"
            ]
          },
          "metadata": {},
          "execution_count": 11
        }
      ]
    },
    {
      "cell_type": "markdown",
      "metadata": {
        "id": "eac01c9d"
      },
      "source": [
        "- 6. data1.xlsx 데이터에서 '출고수량'의 이상치를 모두 합한 값을 계산하라 \n",
        "    (이상치는 표준편차의 3배에 해당하는 값을 기준으로 함) "
      ]
    },
    {
      "cell_type": "code",
      "metadata": {
        "colab": {
          "base_uri": "https://localhost:8080/"
        },
        "id": "oDZfhvyN_TwM",
        "outputId": "a670886b-7396-45c5-b0eb-827c3c6f9d41"
      },
      "source": [
        "################# Sol #####################\n",
        "cond1 = (df['출고수량'] >= (df['출고수량'].std() * 3))\n",
        "df_outlier = df.loc[cond1]\n",
        "print(df_outlier['출고수량'].sum())"
      ],
      "execution_count": null,
      "outputs": [
        {
          "output_type": "stream",
          "name": "stdout",
          "text": [
            "92892.0111111111\n"
          ]
        }
      ]
    },
    {
      "cell_type": "code",
      "metadata": {
        "colab": {
          "base_uri": "https://localhost:8080/"
        },
        "id": "qHeZNRWyptr1",
        "outputId": "48505d1f-cb86-4cf9-a1e1-75330be70dc8"
      },
      "source": [
        "############# My Code #####################\n",
        "cond1 = df['출고수량'].mean() + df['출고수량'].std() * 3\n",
        "cond2 = df['출고수량'].mean() - df['출고수량'].std() * 3\n",
        "\n",
        "df[(df['출고수량'] > cond1) | (df['출고수량'] < cond2)]['출고수량'].sum()"
      ],
      "execution_count": null,
      "outputs": [
        {
          "output_type": "execute_result",
          "data": {
            "text/plain": [
              "80149.27777777778"
            ]
          },
          "metadata": {},
          "execution_count": 12
        }
      ]
    },
    {
      "cell_type": "markdown",
      "metadata": {
        "id": "5f2ee5a2"
      },
      "source": [
        "- 7. data1.xlsx에서 '재고수량'값이 500개 이상인 값을 1 / 미만을 0 데이로 변환하여 'Target' Column을 생성한 뒤, 'Target' Column에 대한 분류모델을 생성하고 평가하시오.  "
      ]
    },
    {
      "cell_type": "code",
      "metadata": {
        "colab": {
          "base_uri": "https://localhost:8080/"
        },
        "id": "Z59HaeIDAJJO",
        "outputId": "485aa33e-2678-4aeb-a356-e9916532bbc3"
      },
      "source": [
        "##################### Sol ################################\n",
        "cond = (df['재고수량'] >= 500)\n",
        "df.loc[cond, 'target'] =1\n",
        "df.loc[~cond,'target'] = 0\n",
        "print(df['target'].value_counts())"
      ],
      "execution_count": null,
      "outputs": [
        {
          "output_type": "stream",
          "name": "stdout",
          "text": [
            "0.0    32586\n",
            "1.0     4247\n",
            "Name: target, dtype: int64\n"
          ]
        }
      ]
    },
    {
      "cell_type": "code",
      "metadata": {
        "id": "7x5zqrPrALZN"
      },
      "source": [
        "# 0. X / Y 분할\n",
        "# 1. X 범주형 데이터 문자로 변환 (One Hot / pd.get_dummies)\n",
        "# 2. 학습 검증데이터 분할\n",
        "# 3. 파이프라인 구축(특성공학 / 결측치 처리 Imputation + 분류학습)\n",
        "# 4. 교차 검증 + Hyper Parameter Tuning 실시 -> Best Model\n",
        "# 5. 평가\n",
        "\n",
        "Y = df['target']\n",
        "X = df.drop(columns = ['날짜', 'SKU ID', 'SKU 명', '바코드' ,'자재번호', '자재명', '재고수량' ,'target'])\n",
        "\n",
        "X_dummy = pd.get_dummies(X) #범주형 데이터를 숫자로 변환"
      ],
      "execution_count": null,
      "outputs": []
    },
    {
      "cell_type": "code",
      "metadata": {
        "id": "2TSdEZfeCC7y"
      },
      "source": [
        "from sklearn.model_selection import train_test_split\n",
        "from sklearn.pipeline import Pipeline\n",
        "from sklearn.impute   import KNNImputer\n",
        "from sklearn.ensemble import RandomForestClassifier\n",
        "from sklearn.model_selection import GridSearchCV\n",
        "from sklearn.metrics import classification_report"
      ],
      "execution_count": null,
      "outputs": []
    },
    {
      "cell_type": "code",
      "metadata": {
        "colab": {
          "base_uri": "https://localhost:8080/"
        },
        "id": "xDrUgYMDCC_X",
        "outputId": "c67e4c1b-8de6-4523-d9fc-294626c4183e"
      },
      "source": [
        "X_train, X_test, y_train, y_test = train_test_split(X_dummy, Y, test_size = 0.3, random_state = 1234)\n",
        "\n",
        "X_train.shape, X_test.shape, y_train.shape, y_test.shape"
      ],
      "execution_count": null,
      "outputs": [
        {
          "output_type": "execute_result",
          "data": {
            "text/plain": [
              "((25783, 17), (11050, 17), (25783,), (11050,))"
            ]
          },
          "metadata": {},
          "execution_count": 72
        }
      ]
    },
    {
      "cell_type": "code",
      "metadata": {
        "colab": {
          "base_uri": "https://localhost:8080/"
        },
        "id": "Y65FMY8rDo5G",
        "outputId": "1e3ee911-e0d2-43a0-d231-fede745b375c"
      },
      "source": [
        "pipe_list = [('impute', KNNImputer()), ('model', RandomForestClassifier())]\n",
        "pipe_model = Pipeline(pipe_list)\n",
        "print(pipe_model)"
      ],
      "execution_count": null,
      "outputs": [
        {
          "output_type": "stream",
          "name": "stdout",
          "text": [
            "Pipeline(steps=[('impute', KNNImputer()), ('model', RandomForestClassifier())])\n"
          ]
        }
      ]
    },
    {
      "cell_type": "code",
      "metadata": {
        "colab": {
          "base_uri": "https://localhost:8080/"
        },
        "id": "n1BH7HEsFgVa",
        "outputId": "dd624718-a3e3-4447-c415-24e7d5e85711"
      },
      "source": [
        "hyper_parameter = { 'model__min_samples_leaf':range(5, 10),\n",
        "                    'model__n_estimators' : [50, 100, 150],\n",
        "                    'model__class_weight' : [None, 'balanced']}\n",
        "grid_model = GridSearchCV(pipe_model, param_grid = hyper_parameter, cv = 3,\n",
        "                          n_jobs = -1, scoring = 'f1')                    \n",
        "grid_model.fit(X_train, y_train)"
      ],
      "execution_count": null,
      "outputs": [
        {
          "output_type": "execute_result",
          "data": {
            "text/plain": [
              "GridSearchCV(cv=3,\n",
              "             estimator=Pipeline(steps=[('impute', KNNImputer()),\n",
              "                                       ('model', RandomForestClassifier())]),\n",
              "             n_jobs=-1,\n",
              "             param_grid={'model__class_weight': [None, 'balanced'],\n",
              "                         'model__min_samples_leaf': range(5, 10),\n",
              "                         'model__n_estimators': [50, 100, 150]},\n",
              "             scoring='f1')"
            ]
          },
          "metadata": {},
          "execution_count": 75
        }
      ]
    },
    {
      "cell_type": "code",
      "metadata": {
        "colab": {
          "base_uri": "https://localhost:8080/"
        },
        "id": "4b5f0s6MFgTE",
        "outputId": "329f92a3-8e66-43a9-eb4b-120967771aaf"
      },
      "source": [
        "best_model = grid_model.best_estimator_\n",
        "print(best_model)"
      ],
      "execution_count": null,
      "outputs": [
        {
          "output_type": "stream",
          "name": "stdout",
          "text": [
            "Pipeline(steps=[('impute', KNNImputer()),\n",
            "                ('model',\n",
            "                 RandomForestClassifier(min_samples_leaf=5, n_estimators=150))])\n"
          ]
        }
      ]
    },
    {
      "cell_type": "code",
      "metadata": {
        "colab": {
          "base_uri": "https://localhost:8080/"
        },
        "id": "CQKbYYskFgQP",
        "outputId": "4d4dcd14-d1fa-482e-8825-98adfaf7f066"
      },
      "source": [
        "y_train_pred = best_model.predict(X_train)\n",
        "y_test_pred = best_model.predict(X_test)\n",
        "\n",
        "print(classification_report(y_train, y_train_pred))\n",
        "print(classification_report(y_test, y_test_pred))"
      ],
      "execution_count": null,
      "outputs": [
        {
          "output_type": "stream",
          "name": "stdout",
          "text": [
            "              precision    recall  f1-score   support\n",
            "\n",
            "         0.0       1.00      1.00      1.00     22804\n",
            "         1.0       1.00      0.96      0.98      2979\n",
            "\n",
            "    accuracy                           1.00     25783\n",
            "   macro avg       1.00      0.98      0.99     25783\n",
            "weighted avg       1.00      1.00      1.00     25783\n",
            "\n",
            "              precision    recall  f1-score   support\n",
            "\n",
            "         0.0       0.99      1.00      0.99      9782\n",
            "         1.0       0.99      0.93      0.96      1268\n",
            "\n",
            "    accuracy                           0.99     11050\n",
            "   macro avg       0.99      0.96      0.97     11050\n",
            "weighted avg       0.99      0.99      0.99     11050\n",
            "\n"
          ]
        }
      ]
    },
    {
      "cell_type": "code",
      "metadata": {
        "id": "vRM5kQ_CFgNA"
      },
      "source": [
        ""
      ],
      "execution_count": null,
      "outputs": []
    },
    {
      "cell_type": "code",
      "metadata": {
        "id": "vH-C7YxjrBHh"
      },
      "source": [
        "###################### My Code ###################################\n",
        "df['Target'] = df['재고수량'].map(lambda x : 1 if x >= 500 else 0)"
      ],
      "execution_count": null,
      "outputs": []
    },
    {
      "cell_type": "code",
      "metadata": {
        "colab": {
          "base_uri": "https://localhost:8080/",
          "height": 233
        },
        "id": "Toveu60krZZ_",
        "outputId": "bfb6f6a6-ef49-4007-93b5-5541de953184"
      },
      "source": [
        "df.head(2)"
      ],
      "execution_count": null,
      "outputs": [
        {
          "output_type": "execute_result",
          "data": {
            "text/html": [
              "<div>\n",
              "<style scoped>\n",
              "    .dataframe tbody tr th:only-of-type {\n",
              "        vertical-align: middle;\n",
              "    }\n",
              "\n",
              "    .dataframe tbody tr th {\n",
              "        vertical-align: top;\n",
              "    }\n",
              "\n",
              "    .dataframe thead th {\n",
              "        text-align: right;\n",
              "    }\n",
              "</style>\n",
              "<table border=\"1\" class=\"dataframe\">\n",
              "  <thead>\n",
              "    <tr style=\"text-align: right;\">\n",
              "      <th></th>\n",
              "      <th>날짜</th>\n",
              "      <th>SKU ID</th>\n",
              "      <th>SKU 명</th>\n",
              "      <th>바코드</th>\n",
              "      <th>발주가능상태</th>\n",
              "      <th>입고수량</th>\n",
              "      <th>쿠팡출고수량</th>\n",
              "      <th>쿠팡현재재고수량</th>\n",
              "      <th>자재번호</th>\n",
              "      <th>자재명</th>\n",
              "      <th>카테고리</th>\n",
              "      <th>입수</th>\n",
              "      <th>출고수량</th>\n",
              "      <th>재고수량</th>\n",
              "      <th>재고수량_scaled</th>\n",
              "      <th>Target</th>\n",
              "    </tr>\n",
              "  </thead>\n",
              "  <tbody>\n",
              "    <tr>\n",
              "      <th>0</th>\n",
              "      <td>2019-05-16</td>\n",
              "      <td>29349</td>\n",
              "      <td>리큐진한겔일반 3LNEW</td>\n",
              "      <td>8801046893111</td>\n",
              "      <td>발주가능</td>\n",
              "      <td>384</td>\n",
              "      <td>287</td>\n",
              "      <td>5788</td>\n",
              "      <td>6077374</td>\n",
              "      <td>19리큐 진한겔 알카2.7용기(일)</td>\n",
              "      <td>세탁세제</td>\n",
              "      <td>4</td>\n",
              "      <td>71.75</td>\n",
              "      <td>80.668990</td>\n",
              "      <td>-0.146010</td>\n",
              "      <td>0</td>\n",
              "    </tr>\n",
              "    <tr>\n",
              "      <th>1</th>\n",
              "      <td>2019-05-16</td>\n",
              "      <td>29350</td>\n",
              "      <td>리큐 진한겔드럼 3L NEW</td>\n",
              "      <td>8801046893128</td>\n",
              "      <td>발주가능</td>\n",
              "      <td>0</td>\n",
              "      <td>235</td>\n",
              "      <td>2772</td>\n",
              "      <td>6077394</td>\n",
              "      <td>19리큐 진한겔 알카2.7용기(드)</td>\n",
              "      <td>세탁세제</td>\n",
              "      <td>4</td>\n",
              "      <td>58.75</td>\n",
              "      <td>47.182979</td>\n",
              "      <td>-0.169367</td>\n",
              "      <td>0</td>\n",
              "    </tr>\n",
              "  </tbody>\n",
              "</table>\n",
              "</div>"
            ],
            "text/plain": [
              "           날짜  SKU ID            SKU 명  ...       재고수량 재고수량_scaled  Target\n",
              "0  2019-05-16   29349    리큐진한겔일반 3LNEW  ...  80.668990   -0.146010       0\n",
              "1  2019-05-16   29350  리큐 진한겔드럼 3L NEW  ...  47.182979   -0.169367       0\n",
              "\n",
              "[2 rows x 16 columns]"
            ]
          },
          "metadata": {},
          "execution_count": 14
        }
      ]
    },
    {
      "cell_type": "code",
      "metadata": {
        "colab": {
          "base_uri": "https://localhost:8080/"
        },
        "id": "FV5zkxbErcmY",
        "outputId": "8c17589f-af1c-4fc3-f177-5698306b0320"
      },
      "source": [
        "df.Target.value_counts()"
      ],
      "execution_count": null,
      "outputs": [
        {
          "output_type": "execute_result",
          "data": {
            "text/plain": [
              "0    32586\n",
              "1     4247\n",
              "Name: Target, dtype: int64"
            ]
          },
          "metadata": {},
          "execution_count": 15
        }
      ]
    },
    {
      "cell_type": "code",
      "metadata": {
        "colab": {
          "base_uri": "https://localhost:8080/"
        },
        "id": "fD_m7-fPsMnL",
        "outputId": "fefdc847-ecc7-4d7c-a2a6-beab5807ddb0"
      },
      "source": [
        "df['자재명'].value_counts()"
      ],
      "execution_count": null,
      "outputs": [
        {
          "output_type": "execute_result",
          "data": {
            "text/plain": [
              "19리큐 진한겔 알카2.7용기(일)       242\n",
              "19KS퍼퓸린스엘레강스 600ml책       168\n",
              "19리큐 진한겔 1/2 2.4용기(드)     168\n",
              "19리큐 진한겔 1/2 2.4용기(일)     168\n",
              "18울샴푸오리지 1.8L (화)         168\n",
              "                         ... \n",
              "19샤워메이트스크럽 300쿠키앤크림책        7\n",
              "18 스파크 스팀100℃ 1.4kg 기획      7\n",
              "18샤워메이트스크럽 300피스타치오         7\n",
              "17샤워메이트필링티슈 10매브라이트닝        7\n",
              "18KS걸리쉬 헤어파우더팩트             7\n",
              "Name: 자재명, Length: 351, dtype: int64"
            ]
          },
          "metadata": {},
          "execution_count": 16
        }
      ]
    },
    {
      "cell_type": "code",
      "metadata": {
        "colab": {
          "base_uri": "https://localhost:8080/"
        },
        "id": "6kLX1q1gsvPp",
        "outputId": "956e2b4d-0fac-4c6f-a1e3-5f588d2d7140"
      },
      "source": [
        "len(df[df['입수'] >= cond]), len(df[(df['출고수량'] > cond1) | (df['출고수량'] < cond2)])"
      ],
      "execution_count": null,
      "outputs": [
        {
          "output_type": "execute_result",
          "data": {
            "text/plain": [
              "(2102, 726)"
            ]
          },
          "metadata": {},
          "execution_count": 17
        }
      ]
    },
    {
      "cell_type": "code",
      "metadata": {
        "id": "RChIXCZrtVvD"
      },
      "source": [
        "index1 = df[df['입수'] >= cond].index\n",
        "index2 = df[(df['출고수량'] > cond1) | (df['출고수량'] < cond2)].index\n",
        "df.shape , df.drop(index = set(index1) | set(index2)).shape\n",
        "df2 = df.drop(index = set(index1) | set(index2))"
      ],
      "execution_count": null,
      "outputs": []
    },
    {
      "cell_type": "code",
      "metadata": {
        "colab": {
          "base_uri": "https://localhost:8080/"
        },
        "id": "dfqFJojct1sR",
        "outputId": "beb21894-d8dd-4bd5-ddef-592b0a4124a1"
      },
      "source": [
        "df.shape, df2.shape"
      ],
      "execution_count": null,
      "outputs": [
        {
          "output_type": "execute_result",
          "data": {
            "text/plain": [
              "((36833, 16), (34005, 16))"
            ]
          },
          "metadata": {},
          "execution_count": 19
        }
      ]
    },
    {
      "cell_type": "code",
      "metadata": {
        "colab": {
          "base_uri": "https://localhost:8080/"
        },
        "id": "58orFoR-ueaa",
        "outputId": "9892268f-b916-42d3-aa8b-a8efa168e5d4"
      },
      "source": [
        "df2.info()"
      ],
      "execution_count": null,
      "outputs": [
        {
          "output_type": "stream",
          "name": "stdout",
          "text": [
            "<class 'pandas.core.frame.DataFrame'>\n",
            "Int64Index: 34005 entries, 1 to 36832\n",
            "Data columns (total 16 columns):\n",
            " #   Column       Non-Null Count  Dtype  \n",
            "---  ------       --------------  -----  \n",
            " 0   날짜           34005 non-null  object \n",
            " 1   SKU ID       34005 non-null  int64  \n",
            " 2   SKU 명        34005 non-null  object \n",
            " 3   바코드          34005 non-null  object \n",
            " 4   발주가능상태       34005 non-null  object \n",
            " 5   입고수량         34005 non-null  int64  \n",
            " 6   쿠팡출고수량       34005 non-null  int64  \n",
            " 7   쿠팡현재재고수량     34005 non-null  int64  \n",
            " 8   자재번호         34005 non-null  int64  \n",
            " 9   자재명          34005 non-null  object \n",
            " 10  카테고리         34005 non-null  object \n",
            " 11  입수           34005 non-null  int64  \n",
            " 12  출고수량         34005 non-null  float64\n",
            " 13  재고수량         34005 non-null  float64\n",
            " 14  재고수량_scaled  34005 non-null  float64\n",
            " 15  Target       34005 non-null  int64  \n",
            "dtypes: float64(3), int64(7), object(6)\n",
            "memory usage: 4.4+ MB\n"
          ]
        }
      ]
    },
    {
      "cell_type": "code",
      "metadata": {
        "colab": {
          "base_uri": "https://localhost:8080/"
        },
        "id": "BGOoi9hS2Fbb",
        "outputId": "f00712b7-067f-44ae-d32b-d61b7827d3c8"
      },
      "source": [
        "df2['SKU 명'].value_counts()"
      ],
      "execution_count": null,
      "outputs": [
        {
          "output_type": "execute_result",
          "data": {
            "text/plain": [
              "홈즈 에어후레쉬 옷장용 방향소취제 시원한 아쿠아향 32g      84\n",
              "2080애플민트향치약(자일리톨) 100gx3입            84\n",
              "리큐진한겔드럼 2.1L                         84\n",
              "순샘구연산 자몽 1.4L 리필                     84\n",
              "리큐 반만쓰는 진한겔 드럼 2.4L                  84\n",
              "                                     ..\n",
              "Pack_샤워메이트 에블 바디 필링 티슈 브라이트닝 10매      7\n",
              "Box_스파크 스팀100°C 1.4kg 기획 3개입          7\n",
              "샤워메이트스크럽 300g쿠키앤크림                    7\n",
              "샤워메이트스크럽 300g피스타치오                    7\n",
              "Box_리큐 진한겔 액체세제 일반용 리필형 2.1L * 4입     4\n",
              "Name: SKU 명, Length: 492, dtype: int64"
            ]
          },
          "metadata": {},
          "execution_count": 21
        }
      ]
    },
    {
      "cell_type": "code",
      "metadata": {
        "colab": {
          "base_uri": "https://localhost:8080/"
        },
        "id": "Xt2nsvyN2Sdc",
        "outputId": "490d6e0e-facd-4a4b-8fcf-5982be015b88"
      },
      "source": [
        "df2['자재명'].value_counts()"
      ],
      "execution_count": null,
      "outputs": [
        {
          "output_type": "execute_result",
          "data": {
            "text/plain": [
              "19리큐 진한겔 알카2.7용기(일)        211\n",
              "18울샴푸오리지 1.8L (화)          168\n",
              "16트리오투명한 생각 1000 mL 파우치    168\n",
              "19리큐 진한겔 1/2 2.4용기(드)      168\n",
              "17항균트리오 3kg(1종)            168\n",
              "                          ... \n",
              "18 스파크 스팀100℃ 1.4kg 기획       7\n",
              "19샤워메이트스크럽 300쿠키앤크림책         7\n",
              "18샤워메이트스크럽 300피스타치오          7\n",
              "17샤워메이트필링티슈 10매브라이트닝         7\n",
              "17리큐 진한겔 2.1L온라인4입(화)        4\n",
              "Name: 자재명, Length: 328, dtype: int64"
            ]
          },
          "metadata": {},
          "execution_count": 22
        }
      ]
    },
    {
      "cell_type": "code",
      "metadata": {
        "id": "K8g3r1TxvM40"
      },
      "source": [
        "df3 = df2.drop(['SKU ID', '바코드', '자재번호', '재고수량'], axis = 1)"
      ],
      "execution_count": null,
      "outputs": []
    },
    {
      "cell_type": "code",
      "metadata": {
        "id": "gDEVEhYH2fhb"
      },
      "source": [
        "#해야할것\n",
        "#1. 날짜 분리\n",
        "#2. 레이블 인코딩 자재명, SKU명\n",
        "#3. 카테고리, 발주가능상태 원핫 인코딩\n",
        "#4. 입고수량, 쿠팡출고수량, 쿠팡재고수량 스케일링"
      ],
      "execution_count": null,
      "outputs": []
    },
    {
      "cell_type": "code",
      "metadata": {
        "colab": {
          "base_uri": "https://localhost:8080/",
          "height": 165
        },
        "id": "ufId0fqzn28F",
        "outputId": "562aefa2-ed65-4abb-8d9b-0c8a7fe97b57"
      },
      "source": [
        "df3.head(2)"
      ],
      "execution_count": null,
      "outputs": [
        {
          "output_type": "execute_result",
          "data": {
            "text/html": [
              "<div>\n",
              "<style scoped>\n",
              "    .dataframe tbody tr th:only-of-type {\n",
              "        vertical-align: middle;\n",
              "    }\n",
              "\n",
              "    .dataframe tbody tr th {\n",
              "        vertical-align: top;\n",
              "    }\n",
              "\n",
              "    .dataframe thead th {\n",
              "        text-align: right;\n",
              "    }\n",
              "</style>\n",
              "<table border=\"1\" class=\"dataframe\">\n",
              "  <thead>\n",
              "    <tr style=\"text-align: right;\">\n",
              "      <th></th>\n",
              "      <th>날짜</th>\n",
              "      <th>SKU 명</th>\n",
              "      <th>발주가능상태</th>\n",
              "      <th>입고수량</th>\n",
              "      <th>쿠팡출고수량</th>\n",
              "      <th>쿠팡현재재고수량</th>\n",
              "      <th>자재명</th>\n",
              "      <th>카테고리</th>\n",
              "      <th>입수</th>\n",
              "      <th>출고수량</th>\n",
              "      <th>재고수량_scaled</th>\n",
              "      <th>Target</th>\n",
              "    </tr>\n",
              "  </thead>\n",
              "  <tbody>\n",
              "    <tr>\n",
              "      <th>1</th>\n",
              "      <td>2019-05-16</td>\n",
              "      <td>리큐 진한겔드럼 3L NEW</td>\n",
              "      <td>발주가능</td>\n",
              "      <td>0</td>\n",
              "      <td>235</td>\n",
              "      <td>2772</td>\n",
              "      <td>19리큐 진한겔 알카2.7용기(드)</td>\n",
              "      <td>세탁세제</td>\n",
              "      <td>4</td>\n",
              "      <td>58.750000</td>\n",
              "      <td>-0.169367</td>\n",
              "      <td>0</td>\n",
              "    </tr>\n",
              "    <tr>\n",
              "      <th>2</th>\n",
              "      <td>2019-05-16</td>\n",
              "      <td>울샴푸아웃도어 800ml 용기</td>\n",
              "      <td>발주가능</td>\n",
              "      <td>0</td>\n",
              "      <td>2</td>\n",
              "      <td>35</td>\n",
              "      <td>19울샴푸아웃도 800ml(리뉴얼)</td>\n",
              "      <td>세탁세제</td>\n",
              "      <td>9</td>\n",
              "      <td>0.222222</td>\n",
              "      <td>-0.092420</td>\n",
              "      <td>0</td>\n",
              "    </tr>\n",
              "  </tbody>\n",
              "</table>\n",
              "</div>"
            ],
            "text/plain": [
              "           날짜             SKU 명 발주가능상태  ...       출고수량  재고수량_scaled  Target\n",
              "1  2019-05-16   리큐 진한겔드럼 3L NEW   발주가능  ...  58.750000    -0.169367       0\n",
              "2  2019-05-16  울샴푸아웃도어 800ml 용기   발주가능  ...   0.222222    -0.092420       0\n",
              "\n",
              "[2 rows x 12 columns]"
            ]
          },
          "metadata": {},
          "execution_count": 26
        }
      ]
    },
    {
      "cell_type": "code",
      "metadata": {
        "colab": {
          "base_uri": "https://localhost:8080/",
          "height": 212
        },
        "id": "-hCT3WfuoKCE",
        "outputId": "098daa22-6d5a-4515-97f2-549b54e6d15f"
      },
      "source": [
        "#1.날짜분리\n",
        "df3['날짜'] = pd.to_datetime(df3['날짜'])\n",
        "df3['년도'] = df3['날짜'].dt.year\n",
        "df3['월'] = df3['날짜'].dt.month\n",
        "df3['일'] = df3['날짜'].dt.day\n",
        "df3.head(3)"
      ],
      "execution_count": null,
      "outputs": [
        {
          "output_type": "execute_result",
          "data": {
            "text/html": [
              "<div>\n",
              "<style scoped>\n",
              "    .dataframe tbody tr th:only-of-type {\n",
              "        vertical-align: middle;\n",
              "    }\n",
              "\n",
              "    .dataframe tbody tr th {\n",
              "        vertical-align: top;\n",
              "    }\n",
              "\n",
              "    .dataframe thead th {\n",
              "        text-align: right;\n",
              "    }\n",
              "</style>\n",
              "<table border=\"1\" class=\"dataframe\">\n",
              "  <thead>\n",
              "    <tr style=\"text-align: right;\">\n",
              "      <th></th>\n",
              "      <th>날짜</th>\n",
              "      <th>SKU 명</th>\n",
              "      <th>발주가능상태</th>\n",
              "      <th>입고수량</th>\n",
              "      <th>쿠팡출고수량</th>\n",
              "      <th>쿠팡현재재고수량</th>\n",
              "      <th>자재명</th>\n",
              "      <th>카테고리</th>\n",
              "      <th>입수</th>\n",
              "      <th>출고수량</th>\n",
              "      <th>재고수량_scaled</th>\n",
              "      <th>Target</th>\n",
              "      <th>년도</th>\n",
              "      <th>월</th>\n",
              "      <th>일</th>\n",
              "    </tr>\n",
              "  </thead>\n",
              "  <tbody>\n",
              "    <tr>\n",
              "      <th>1</th>\n",
              "      <td>2019-05-16</td>\n",
              "      <td>리큐 진한겔드럼 3L NEW</td>\n",
              "      <td>발주가능</td>\n",
              "      <td>0</td>\n",
              "      <td>235</td>\n",
              "      <td>2772</td>\n",
              "      <td>19리큐 진한겔 알카2.7용기(드)</td>\n",
              "      <td>세탁세제</td>\n",
              "      <td>4</td>\n",
              "      <td>58.750000</td>\n",
              "      <td>-0.169367</td>\n",
              "      <td>0</td>\n",
              "      <td>2019</td>\n",
              "      <td>5</td>\n",
              "      <td>16</td>\n",
              "    </tr>\n",
              "    <tr>\n",
              "      <th>2</th>\n",
              "      <td>2019-05-16</td>\n",
              "      <td>울샴푸아웃도어 800ml 용기</td>\n",
              "      <td>발주가능</td>\n",
              "      <td>0</td>\n",
              "      <td>2</td>\n",
              "      <td>35</td>\n",
              "      <td>19울샴푸아웃도 800ml(리뉴얼)</td>\n",
              "      <td>세탁세제</td>\n",
              "      <td>9</td>\n",
              "      <td>0.222222</td>\n",
              "      <td>-0.092420</td>\n",
              "      <td>0</td>\n",
              "      <td>2019</td>\n",
              "      <td>5</td>\n",
              "      <td>16</td>\n",
              "    </tr>\n",
              "    <tr>\n",
              "      <th>3</th>\n",
              "      <td>2019-05-16</td>\n",
              "      <td>울샴푸아웃도어 1L 일자형 리필</td>\n",
              "      <td>발주가능</td>\n",
              "      <td>207</td>\n",
              "      <td>41</td>\n",
              "      <td>2083</td>\n",
              "      <td>19울샴푸아웃도 1L(리뉴얼)</td>\n",
              "      <td>세탁세제</td>\n",
              "      <td>9</td>\n",
              "      <td>4.555556</td>\n",
              "      <td>0.116655</td>\n",
              "      <td>0</td>\n",
              "      <td>2019</td>\n",
              "      <td>5</td>\n",
              "      <td>16</td>\n",
              "    </tr>\n",
              "  </tbody>\n",
              "</table>\n",
              "</div>"
            ],
            "text/plain": [
              "          날짜              SKU 명 발주가능상태  입고수량  ...  Target    년도  월   일\n",
              "1 2019-05-16    리큐 진한겔드럼 3L NEW   발주가능     0  ...       0  2019  5  16\n",
              "2 2019-05-16   울샴푸아웃도어 800ml 용기   발주가능     0  ...       0  2019  5  16\n",
              "3 2019-05-16  울샴푸아웃도어 1L 일자형 리필   발주가능   207  ...       0  2019  5  16\n",
              "\n",
              "[3 rows x 15 columns]"
            ]
          },
          "metadata": {},
          "execution_count": 27
        }
      ]
    },
    {
      "cell_type": "code",
      "metadata": {
        "colab": {
          "base_uri": "https://localhost:8080/",
          "height": 165
        },
        "id": "THeQq28Spk6s",
        "outputId": "09a591be-a2bb-4405-c9b4-c3f2b1dc18f3"
      },
      "source": [
        "df4 = df3.drop('날짜', axis = 1)\n",
        "df4.head(2)"
      ],
      "execution_count": null,
      "outputs": [
        {
          "output_type": "execute_result",
          "data": {
            "text/html": [
              "<div>\n",
              "<style scoped>\n",
              "    .dataframe tbody tr th:only-of-type {\n",
              "        vertical-align: middle;\n",
              "    }\n",
              "\n",
              "    .dataframe tbody tr th {\n",
              "        vertical-align: top;\n",
              "    }\n",
              "\n",
              "    .dataframe thead th {\n",
              "        text-align: right;\n",
              "    }\n",
              "</style>\n",
              "<table border=\"1\" class=\"dataframe\">\n",
              "  <thead>\n",
              "    <tr style=\"text-align: right;\">\n",
              "      <th></th>\n",
              "      <th>SKU 명</th>\n",
              "      <th>발주가능상태</th>\n",
              "      <th>입고수량</th>\n",
              "      <th>쿠팡출고수량</th>\n",
              "      <th>쿠팡현재재고수량</th>\n",
              "      <th>자재명</th>\n",
              "      <th>카테고리</th>\n",
              "      <th>입수</th>\n",
              "      <th>출고수량</th>\n",
              "      <th>재고수량_scaled</th>\n",
              "      <th>Target</th>\n",
              "      <th>년도</th>\n",
              "      <th>월</th>\n",
              "      <th>일</th>\n",
              "    </tr>\n",
              "  </thead>\n",
              "  <tbody>\n",
              "    <tr>\n",
              "      <th>1</th>\n",
              "      <td>리큐 진한겔드럼 3L NEW</td>\n",
              "      <td>발주가능</td>\n",
              "      <td>0</td>\n",
              "      <td>235</td>\n",
              "      <td>2772</td>\n",
              "      <td>19리큐 진한겔 알카2.7용기(드)</td>\n",
              "      <td>세탁세제</td>\n",
              "      <td>4</td>\n",
              "      <td>58.750000</td>\n",
              "      <td>-0.169367</td>\n",
              "      <td>0</td>\n",
              "      <td>2019</td>\n",
              "      <td>5</td>\n",
              "      <td>16</td>\n",
              "    </tr>\n",
              "    <tr>\n",
              "      <th>2</th>\n",
              "      <td>울샴푸아웃도어 800ml 용기</td>\n",
              "      <td>발주가능</td>\n",
              "      <td>0</td>\n",
              "      <td>2</td>\n",
              "      <td>35</td>\n",
              "      <td>19울샴푸아웃도 800ml(리뉴얼)</td>\n",
              "      <td>세탁세제</td>\n",
              "      <td>9</td>\n",
              "      <td>0.222222</td>\n",
              "      <td>-0.092420</td>\n",
              "      <td>0</td>\n",
              "      <td>2019</td>\n",
              "      <td>5</td>\n",
              "      <td>16</td>\n",
              "    </tr>\n",
              "  </tbody>\n",
              "</table>\n",
              "</div>"
            ],
            "text/plain": [
              "              SKU 명 발주가능상태  입고수량  쿠팡출고수량  ...  Target    년도  월   일\n",
              "1   리큐 진한겔드럼 3L NEW   발주가능     0     235  ...       0  2019  5  16\n",
              "2  울샴푸아웃도어 800ml 용기   발주가능     0       2  ...       0  2019  5  16\n",
              "\n",
              "[2 rows x 14 columns]"
            ]
          },
          "metadata": {},
          "execution_count": 29
        }
      ]
    },
    {
      "cell_type": "code",
      "metadata": {
        "id": "_uGEuDdkp2ge"
      },
      "source": [
        "#2. 레이블 인코딩\n",
        "from sklearn.preprocessing import LabelEncoder\n",
        "le = LabelEncoder()\n",
        "df4['SKU 명'] = le.fit_transform(df4['SKU 명'])\n",
        "df4['자재명'] = le.fit_transform(df4['자재명'])\n",
        "df4['카테고리'] = le.fit_transform(df4['카테고리'])"
      ],
      "execution_count": null,
      "outputs": []
    },
    {
      "cell_type": "code",
      "metadata": {
        "colab": {
          "base_uri": "https://localhost:8080/",
          "height": 206
        },
        "id": "W3Q3xzK7rmk9",
        "outputId": "c294f98b-cf2d-4a3b-9106-05a13a8fe44f"
      },
      "source": [
        "df4.head()"
      ],
      "execution_count": null,
      "outputs": [
        {
          "output_type": "execute_result",
          "data": {
            "text/html": [
              "<div>\n",
              "<style scoped>\n",
              "    .dataframe tbody tr th:only-of-type {\n",
              "        vertical-align: middle;\n",
              "    }\n",
              "\n",
              "    .dataframe tbody tr th {\n",
              "        vertical-align: top;\n",
              "    }\n",
              "\n",
              "    .dataframe thead th {\n",
              "        text-align: right;\n",
              "    }\n",
              "</style>\n",
              "<table border=\"1\" class=\"dataframe\">\n",
              "  <thead>\n",
              "    <tr style=\"text-align: right;\">\n",
              "      <th></th>\n",
              "      <th>SKU 명</th>\n",
              "      <th>발주가능상태</th>\n",
              "      <th>입고수량</th>\n",
              "      <th>쿠팡출고수량</th>\n",
              "      <th>쿠팡현재재고수량</th>\n",
              "      <th>자재명</th>\n",
              "      <th>카테고리</th>\n",
              "      <th>입수</th>\n",
              "      <th>출고수량</th>\n",
              "      <th>재고수량_scaled</th>\n",
              "      <th>Target</th>\n",
              "      <th>년도</th>\n",
              "      <th>월</th>\n",
              "      <th>일</th>\n",
              "    </tr>\n",
              "  </thead>\n",
              "  <tbody>\n",
              "    <tr>\n",
              "      <th>1</th>\n",
              "      <td>298</td>\n",
              "      <td>발주가능</td>\n",
              "      <td>0</td>\n",
              "      <td>235</td>\n",
              "      <td>2772</td>\n",
              "      <td>292</td>\n",
              "      <td>5</td>\n",
              "      <td>4</td>\n",
              "      <td>58.750000</td>\n",
              "      <td>-0.169367</td>\n",
              "      <td>0</td>\n",
              "      <td>2019</td>\n",
              "      <td>5</td>\n",
              "      <td>16</td>\n",
              "    </tr>\n",
              "    <tr>\n",
              "      <th>2</th>\n",
              "      <td>389</td>\n",
              "      <td>발주가능</td>\n",
              "      <td>0</td>\n",
              "      <td>2</td>\n",
              "      <td>35</td>\n",
              "      <td>317</td>\n",
              "      <td>5</td>\n",
              "      <td>9</td>\n",
              "      <td>0.222222</td>\n",
              "      <td>-0.092420</td>\n",
              "      <td>0</td>\n",
              "      <td>2019</td>\n",
              "      <td>5</td>\n",
              "      <td>16</td>\n",
              "    </tr>\n",
              "    <tr>\n",
              "      <th>3</th>\n",
              "      <td>388</td>\n",
              "      <td>발주가능</td>\n",
              "      <td>207</td>\n",
              "      <td>41</td>\n",
              "      <td>2083</td>\n",
              "      <td>316</td>\n",
              "      <td>5</td>\n",
              "      <td>9</td>\n",
              "      <td>4.555556</td>\n",
              "      <td>0.116655</td>\n",
              "      <td>0</td>\n",
              "      <td>2019</td>\n",
              "      <td>5</td>\n",
              "      <td>16</td>\n",
              "    </tr>\n",
              "    <tr>\n",
              "      <th>4</th>\n",
              "      <td>224</td>\n",
              "      <td>발주가능</td>\n",
              "      <td>288</td>\n",
              "      <td>312</td>\n",
              "      <td>3411</td>\n",
              "      <td>99</td>\n",
              "      <td>3</td>\n",
              "      <td>8</td>\n",
              "      <td>39.000000</td>\n",
              "      <td>-0.141272</td>\n",
              "      <td>0</td>\n",
              "      <td>2019</td>\n",
              "      <td>5</td>\n",
              "      <td>16</td>\n",
              "    </tr>\n",
              "    <tr>\n",
              "      <th>5</th>\n",
              "      <td>425</td>\n",
              "      <td>발주가능</td>\n",
              "      <td>0</td>\n",
              "      <td>0</td>\n",
              "      <td>86</td>\n",
              "      <td>277</td>\n",
              "      <td>7</td>\n",
              "      <td>10</td>\n",
              "      <td>0.000000</td>\n",
              "      <td>-0.202277</td>\n",
              "      <td>0</td>\n",
              "      <td>2019</td>\n",
              "      <td>5</td>\n",
              "      <td>16</td>\n",
              "    </tr>\n",
              "  </tbody>\n",
              "</table>\n",
              "</div>"
            ],
            "text/plain": [
              "   SKU 명 발주가능상태  입고수량  쿠팡출고수량  쿠팡현재재고수량  ...  재고수량_scaled  Target    년도  월   일\n",
              "1    298   발주가능     0     235      2772  ...    -0.169367       0  2019  5  16\n",
              "2    389   발주가능     0       2        35  ...    -0.092420       0  2019  5  16\n",
              "3    388   발주가능   207      41      2083  ...     0.116655       0  2019  5  16\n",
              "4    224   발주가능   288     312      3411  ...    -0.141272       0  2019  5  16\n",
              "5    425   발주가능     0       0        86  ...    -0.202277       0  2019  5  16\n",
              "\n",
              "[5 rows x 14 columns]"
            ]
          },
          "metadata": {},
          "execution_count": 33
        }
      ]
    },
    {
      "cell_type": "code",
      "metadata": {
        "colab": {
          "base_uri": "https://localhost:8080/",
          "height": 130
        },
        "id": "DoqUpvPprrnu",
        "outputId": "bc6fb688-c23e-4891-c38b-5113ca3abc94"
      },
      "source": [
        "#3. 원핫 인코딩\n",
        "df5 = pd.concat([df4,pd.get_dummies(df4['발주가능상태'])], axis = 1)\n",
        "df5.drop('발주가능상태', axis = 1, inplace = True)\n",
        "df5.head(2)"
      ],
      "execution_count": null,
      "outputs": [
        {
          "output_type": "execute_result",
          "data": {
            "text/html": [
              "<div>\n",
              "<style scoped>\n",
              "    .dataframe tbody tr th:only-of-type {\n",
              "        vertical-align: middle;\n",
              "    }\n",
              "\n",
              "    .dataframe tbody tr th {\n",
              "        vertical-align: top;\n",
              "    }\n",
              "\n",
              "    .dataframe thead th {\n",
              "        text-align: right;\n",
              "    }\n",
              "</style>\n",
              "<table border=\"1\" class=\"dataframe\">\n",
              "  <thead>\n",
              "    <tr style=\"text-align: right;\">\n",
              "      <th></th>\n",
              "      <th>SKU 명</th>\n",
              "      <th>입고수량</th>\n",
              "      <th>쿠팡출고수량</th>\n",
              "      <th>쿠팡현재재고수량</th>\n",
              "      <th>자재명</th>\n",
              "      <th>카테고리</th>\n",
              "      <th>입수</th>\n",
              "      <th>출고수량</th>\n",
              "      <th>재고수량_scaled</th>\n",
              "      <th>Target</th>\n",
              "      <th>년도</th>\n",
              "      <th>월</th>\n",
              "      <th>일</th>\n",
              "      <th>단종</th>\n",
              "      <th>발주가능</th>\n",
              "      <th>발주중단</th>\n",
              "    </tr>\n",
              "  </thead>\n",
              "  <tbody>\n",
              "    <tr>\n",
              "      <th>1</th>\n",
              "      <td>298</td>\n",
              "      <td>0</td>\n",
              "      <td>235</td>\n",
              "      <td>2772</td>\n",
              "      <td>292</td>\n",
              "      <td>5</td>\n",
              "      <td>4</td>\n",
              "      <td>58.750000</td>\n",
              "      <td>-0.169367</td>\n",
              "      <td>0</td>\n",
              "      <td>2019</td>\n",
              "      <td>5</td>\n",
              "      <td>16</td>\n",
              "      <td>0</td>\n",
              "      <td>1</td>\n",
              "      <td>0</td>\n",
              "    </tr>\n",
              "    <tr>\n",
              "      <th>2</th>\n",
              "      <td>389</td>\n",
              "      <td>0</td>\n",
              "      <td>2</td>\n",
              "      <td>35</td>\n",
              "      <td>317</td>\n",
              "      <td>5</td>\n",
              "      <td>9</td>\n",
              "      <td>0.222222</td>\n",
              "      <td>-0.092420</td>\n",
              "      <td>0</td>\n",
              "      <td>2019</td>\n",
              "      <td>5</td>\n",
              "      <td>16</td>\n",
              "      <td>0</td>\n",
              "      <td>1</td>\n",
              "      <td>0</td>\n",
              "    </tr>\n",
              "  </tbody>\n",
              "</table>\n",
              "</div>"
            ],
            "text/plain": [
              "   SKU 명  입고수량  쿠팡출고수량  쿠팡현재재고수량  자재명  카테고리  ...    년도  월   일  단종  발주가능  발주중단\n",
              "1    298     0     235      2772  292     5  ...  2019  5  16   0     1     0\n",
              "2    389     0       2        35  317     5  ...  2019  5  16   0     1     0\n",
              "\n",
              "[2 rows x 16 columns]"
            ]
          },
          "metadata": {},
          "execution_count": 35
        }
      ]
    },
    {
      "cell_type": "code",
      "metadata": {
        "colab": {
          "base_uri": "https://localhost:8080/",
          "height": 223
        },
        "id": "GryIwAcdsJC-",
        "outputId": "0de3e347-16e9-4115-f39c-3b28c6e3da95"
      },
      "source": [
        "#4. min max scaling\n",
        "from sklearn.preprocessing import MinMaxScaler\n",
        "scaler = MinMaxScaler()\n",
        "df6 = df5.copy()\n",
        "df6[['입고수량', '쿠팡출고수량', '쿠팡현재재고수량','출고수량']] = scaler.fit_transform(df6[['입고수량', '쿠팡출고수량', '쿠팡현재재고수량','출고수량']])\n",
        "df6.head()"
      ],
      "execution_count": null,
      "outputs": [
        {
          "output_type": "execute_result",
          "data": {
            "text/html": [
              "<div>\n",
              "<style scoped>\n",
              "    .dataframe tbody tr th:only-of-type {\n",
              "        vertical-align: middle;\n",
              "    }\n",
              "\n",
              "    .dataframe tbody tr th {\n",
              "        vertical-align: top;\n",
              "    }\n",
              "\n",
              "    .dataframe thead th {\n",
              "        text-align: right;\n",
              "    }\n",
              "</style>\n",
              "<table border=\"1\" class=\"dataframe\">\n",
              "  <thead>\n",
              "    <tr style=\"text-align: right;\">\n",
              "      <th></th>\n",
              "      <th>SKU 명</th>\n",
              "      <th>입고수량</th>\n",
              "      <th>쿠팡출고수량</th>\n",
              "      <th>쿠팡현재재고수량</th>\n",
              "      <th>자재명</th>\n",
              "      <th>카테고리</th>\n",
              "      <th>입수</th>\n",
              "      <th>출고수량</th>\n",
              "      <th>재고수량_scaled</th>\n",
              "      <th>Target</th>\n",
              "      <th>년도</th>\n",
              "      <th>월</th>\n",
              "      <th>일</th>\n",
              "      <th>단종</th>\n",
              "      <th>발주가능</th>\n",
              "      <th>발주중단</th>\n",
              "    </tr>\n",
              "  </thead>\n",
              "  <tbody>\n",
              "    <tr>\n",
              "      <th>1</th>\n",
              "      <td>298</td>\n",
              "      <td>0.000000</td>\n",
              "      <td>0.304010</td>\n",
              "      <td>0.085765</td>\n",
              "      <td>292</td>\n",
              "      <td>5</td>\n",
              "      <td>4</td>\n",
              "      <td>0.896186</td>\n",
              "      <td>-0.169367</td>\n",
              "      <td>0</td>\n",
              "      <td>2019</td>\n",
              "      <td>5</td>\n",
              "      <td>16</td>\n",
              "      <td>0</td>\n",
              "      <td>1</td>\n",
              "      <td>0</td>\n",
              "    </tr>\n",
              "    <tr>\n",
              "      <th>2</th>\n",
              "      <td>389</td>\n",
              "      <td>0.000000</td>\n",
              "      <td>0.002587</td>\n",
              "      <td>0.001083</td>\n",
              "      <td>317</td>\n",
              "      <td>5</td>\n",
              "      <td>9</td>\n",
              "      <td>0.003390</td>\n",
              "      <td>-0.092420</td>\n",
              "      <td>0</td>\n",
              "      <td>2019</td>\n",
              "      <td>5</td>\n",
              "      <td>16</td>\n",
              "      <td>0</td>\n",
              "      <td>1</td>\n",
              "      <td>0</td>\n",
              "    </tr>\n",
              "    <tr>\n",
              "      <th>3</th>\n",
              "      <td>388</td>\n",
              "      <td>0.029337</td>\n",
              "      <td>0.053040</td>\n",
              "      <td>0.064447</td>\n",
              "      <td>316</td>\n",
              "      <td>5</td>\n",
              "      <td>9</td>\n",
              "      <td>0.069492</td>\n",
              "      <td>0.116655</td>\n",
              "      <td>0</td>\n",
              "      <td>2019</td>\n",
              "      <td>5</td>\n",
              "      <td>16</td>\n",
              "      <td>0</td>\n",
              "      <td>1</td>\n",
              "      <td>0</td>\n",
              "    </tr>\n",
              "    <tr>\n",
              "      <th>4</th>\n",
              "      <td>224</td>\n",
              "      <td>0.040816</td>\n",
              "      <td>0.403622</td>\n",
              "      <td>0.105535</td>\n",
              "      <td>99</td>\n",
              "      <td>3</td>\n",
              "      <td>8</td>\n",
              "      <td>0.594915</td>\n",
              "      <td>-0.141272</td>\n",
              "      <td>0</td>\n",
              "      <td>2019</td>\n",
              "      <td>5</td>\n",
              "      <td>16</td>\n",
              "      <td>0</td>\n",
              "      <td>1</td>\n",
              "      <td>0</td>\n",
              "    </tr>\n",
              "    <tr>\n",
              "      <th>5</th>\n",
              "      <td>425</td>\n",
              "      <td>0.000000</td>\n",
              "      <td>0.000000</td>\n",
              "      <td>0.002661</td>\n",
              "      <td>277</td>\n",
              "      <td>7</td>\n",
              "      <td>10</td>\n",
              "      <td>0.000000</td>\n",
              "      <td>-0.202277</td>\n",
              "      <td>0</td>\n",
              "      <td>2019</td>\n",
              "      <td>5</td>\n",
              "      <td>16</td>\n",
              "      <td>0</td>\n",
              "      <td>1</td>\n",
              "      <td>0</td>\n",
              "    </tr>\n",
              "  </tbody>\n",
              "</table>\n",
              "</div>"
            ],
            "text/plain": [
              "   SKU 명      입고수량    쿠팡출고수량  쿠팡현재재고수량  자재명  카테고리  ...    년도  월   일  단종  발주가능  발주중단\n",
              "1    298  0.000000  0.304010  0.085765  292     5  ...  2019  5  16   0     1     0\n",
              "2    389  0.000000  0.002587  0.001083  317     5  ...  2019  5  16   0     1     0\n",
              "3    388  0.029337  0.053040  0.064447  316     5  ...  2019  5  16   0     1     0\n",
              "4    224  0.040816  0.403622  0.105535   99     3  ...  2019  5  16   0     1     0\n",
              "5    425  0.000000  0.000000  0.002661  277     7  ...  2019  5  16   0     1     0\n",
              "\n",
              "[5 rows x 16 columns]"
            ]
          },
          "metadata": {},
          "execution_count": 40
        }
      ]
    },
    {
      "cell_type": "code",
      "metadata": {
        "id": "aVmkiAWnrj94"
      },
      "source": [
        "from sklearn.model_selection import train_test_split\n",
        "X = df6.drop('Target', axis = 1)\n",
        "y = df6['Target']\n",
        "\n",
        "X_train, X_test, y_train, y_test = train_test_split(X, y, test_size=0.3, stratify=y)"
      ],
      "execution_count": null,
      "outputs": []
    },
    {
      "cell_type": "code",
      "metadata": {
        "colab": {
          "base_uri": "https://localhost:8080/"
        },
        "id": "9CUw9KJbt0N2",
        "outputId": "0089d4ed-328f-40de-938c-27153ede6f63"
      },
      "source": [
        "X_train.shape, X_test.shape, y_train.shape, y_test.shape"
      ],
      "execution_count": null,
      "outputs": [
        {
          "output_type": "execute_result",
          "data": {
            "text/plain": [
              "((23803, 15), (10202, 15), (23803,), (10202,))"
            ]
          },
          "metadata": {},
          "execution_count": 43
        }
      ]
    },
    {
      "cell_type": "code",
      "metadata": {
        "colab": {
          "base_uri": "https://localhost:8080/"
        },
        "id": "N6PvYu2Mt9Du",
        "outputId": "ee5792df-0d84-4223-dba3-1eef22897d55"
      },
      "source": [
        "#모델링 및 학습\n",
        "\n",
        "from sklearn.ensemble import RandomForestClassifier\n",
        "from sklearn.model_selection import GridSearchCV\n",
        "from sklearn.metrics import roc_auc_score\n",
        "rf = RandomForestClassifier()\n",
        "param_grid = {'n_estimators' : [50, 100,200, 300],\n",
        "              'max_depth' : [None, 3, 5, 7]}\n",
        "\n",
        "gs = GridSearchCV(estimator=rf,\n",
        "                  param_grid = param_grid,\n",
        "                  n_jobs = -1,\n",
        "                  cv = 5)\n",
        "gs.fit(X_train, y_train)"
      ],
      "execution_count": null,
      "outputs": [
        {
          "output_type": "execute_result",
          "data": {
            "text/plain": [
              "GridSearchCV(cv=5, estimator=RandomForestClassifier(), n_jobs=-1,\n",
              "             param_grid={'max_depth': [None, 3, 5, 7],\n",
              "                         'n_estimators': [50, 100, 200, 300]})"
            ]
          },
          "metadata": {},
          "execution_count": 45
        }
      ]
    },
    {
      "cell_type": "code",
      "metadata": {
        "id": "GemjOCiev2gf"
      },
      "source": [
        "best_rf = gs.best_estimator_\n",
        "pred = best_rf.predict(X_test)"
      ],
      "execution_count": null,
      "outputs": []
    },
    {
      "cell_type": "code",
      "metadata": {
        "id": "rle-2B8my6dB"
      },
      "source": [
        "pred_proba = best_rf.predict_proba(X_test)[:, 1]"
      ],
      "execution_count": null,
      "outputs": []
    },
    {
      "cell_type": "code",
      "metadata": {
        "colab": {
          "base_uri": "https://localhost:8080/"
        },
        "id": "FMrirpvhynq4",
        "outputId": "257164e3-6771-41f6-dc76-2c9d8048302c"
      },
      "source": [
        "roc_auc_score(y_test,pred_proba)"
      ],
      "execution_count": null,
      "outputs": [
        {
          "output_type": "execute_result",
          "data": {
            "text/plain": [
              "1.0"
            ]
          },
          "metadata": {},
          "execution_count": 50
        }
      ]
    },
    {
      "cell_type": "code",
      "metadata": {
        "id": "4-sgHUO_zGwg"
      },
      "source": [
        ""
      ],
      "execution_count": null,
      "outputs": []
    }
  ]
}